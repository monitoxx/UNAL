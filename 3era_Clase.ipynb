{
  "nbformat": 4,
  "nbformat_minor": 0,
  "metadata": {
    "colab": {
      "provenance": [],
      "authorship_tag": "ABX9TyOyxKNBhJO82+tHRRJsw6dL",
      "include_colab_link": true
    },
    "kernelspec": {
      "name": "python3",
      "display_name": "Python 3"
    },
    "language_info": {
      "name": "python"
    }
  },
  "cells": [
    {
      "cell_type": "markdown",
      "metadata": {
        "id": "view-in-github",
        "colab_type": "text"
      },
      "source": [
        "<a href=\"https://colab.research.google.com/github/monitoxx/UNAL/blob/main/3era_Clase.ipynb\" target=\"_parent\"><img src=\"https://colab.research.google.com/assets/colab-badge.svg\" alt=\"Open In Colab\"/></a>"
      ]
    },
    {
      "cell_type": "code",
      "execution_count": null,
      "metadata": {
        "colab": {
          "base_uri": "https://localhost:8080/"
        },
        "id": "PS8l0ZjS2pZP",
        "outputId": "43899975-75b5-4acf-af08-cedfba0bb51d"
      },
      "outputs": [
        {
          "output_type": "stream",
          "name": "stdout",
          "text": [
            "Ingrese el #valor bruto de la compra 10000000\n",
            "El valor bruto de la compra con descuentos es: 7500000.0\n"
          ]
        }
      ],
      "source": [
        "#valor_bruto=float(input('Ingrese el #valor bruto de la compra '))\n",
        "#descuento=0\n",
        "#if (valor_bruto>150000):\n",
        "#  descuento=valor_bruto*0.25\n",
        "#total_pagar=(valor_bruto-descuento)\n",
        "#print(f'El valor bruto de la compra con descuentos es: {total_pagar}')"
      ]
    },
    {
      "cell_type": "code",
      "source": [
        "#/////////////////Compra con descuento si supera un monto////////////////\n",
        "#valor_bruto=float(input('Ingrese el #valor bruto de la compra '))\n",
        "#if (valor_bruto>150000):\n",
        "#  valor_con_dcto=(valor_bruto-#(valor_bruto*0.25))\n",
        "#  print(f'Total a pagar con descuento #de 25% es {valor_con_dcto}')\n",
        "#else:\n",
        "#  print(f'Total a pagar {valor_bruto}')\n"
      ],
      "metadata": {
        "id": "F4FcE_Uv_Y-G"
      },
      "execution_count": null,
      "outputs": []
    },
    {
      "cell_type": "code",
      "source": [
        "valor_total=int(input('Ingrese el valor de la compra '))\n",
        "dcto_b_blanca=valor_total*0\n",
        "dcto_b_verde=valor_total*0.10\n",
        "dcto_b_amarilla=0.25*valor_total\n",
        "dcto_b_azul=0.50*valor_total\n",
        "dcto_b_roja=valor_total\n",
        "bolita=(int(input('Ingrese el número correspondiente al color de la bolita que le tocó.\\nDonde una bola blanca corresponde al número 0, una verde al 1, amarilla 2, azul 3 y roja 4 ')))\n",
        "if (bolita==0):\n",
        "  valor_final=int(valor_total-dcto_b_blanca)\n",
        "else:\n",
        "  if(bolita==1):\n",
        "    valor_final=int(valor_total-dcto_b_verde)\n",
        "  else:\n",
        "    if(bolita==2):\n",
        "      valor_final=int(valor_total-dcto_b_amarilla)\n",
        "    else:\n",
        "      if(bolita==3):\n",
        "        valor_final=int(valor_total-dcto_b_azul)\n",
        "      else:\n",
        "        if(bolita==4):\n",
        "          valor_final=int(valor_total-dcto_b_roja)\n",
        "        else:\n",
        "          print('ERROR, no ha seleccionado una respuesta válida, intente de nuevo.')\n",
        "print(f'El valor a pagar de su compra incluido los descuentos es de {valor_final} pesos.\\nFeliz día')"
      ],
      "metadata": {
        "colab": {
          "base_uri": "https://localhost:8080/"
        },
        "id": "2z2tZSYrop9k",
        "outputId": "912c0022-a7ce-42fb-cfce-124da009fcc4"
      },
      "execution_count": 1,
      "outputs": [
        {
          "output_type": "stream",
          "name": "stdout",
          "text": [
            "Ingrese el valor de la compra 1800000\n",
            "Ingrese el número correspondiente al color de la bolita que le tocó.\n",
            "Donde una bola blanca corresponde al número 0, una verde al 1, amarilla 2, azul 3 y roja 4 2\n",
            "El valor a pagar de su compra incluido los descuentos es de 1350000 pesos.\n",
            "Feliz día\n"
          ]
        }
      ]
    }
  ]
}
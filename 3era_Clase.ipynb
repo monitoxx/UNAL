{
  "nbformat": 4,
  "nbformat_minor": 0,
  "metadata": {
    "colab": {
      "provenance": [],
      "authorship_tag": "ABX9TyP1E9YgLD4P3vK60KML/zFi",
      "include_colab_link": true
    },
    "kernelspec": {
      "name": "python3",
      "display_name": "Python 3"
    },
    "language_info": {
      "name": "python"
    }
  },
  "cells": [
    {
      "cell_type": "markdown",
      "metadata": {
        "id": "view-in-github",
        "colab_type": "text"
      },
      "source": [
        "<a href=\"https://colab.research.google.com/github/monitoxx/UNAL/blob/main/3era_Clase.ipynb\" target=\"_parent\"><img src=\"https://colab.research.google.com/assets/colab-badge.svg\" alt=\"Open In Colab\"/></a>"
      ]
    },
    {
      "cell_type": "code",
      "execution_count": 3,
      "metadata": {
        "colab": {
          "base_uri": "https://localhost:8080/"
        },
        "id": "PS8l0ZjS2pZP",
        "outputId": "43899975-75b5-4acf-af08-cedfba0bb51d"
      },
      "outputs": [
        {
          "output_type": "stream",
          "name": "stdout",
          "text": [
            "Ingrese el #valor bruto de la compra 10000000\n",
            "El valor bruto de la compra con descuentos es: 7500000.0\n"
          ]
        }
      ],
      "source": [
        "valor_bruto=float(input('Ingrese el #valor bruto de la compra '))\n",
        "descuento=0\n",
        "if (valor_bruto>150000):\n",
        "  descuento=valor_bruto*0.25\n",
        "total_pagar=(valor_bruto-descuento)\n",
        "print(f'El valor bruto de la compra con descuentos es: {total_pagar}')"
      ]
    },
    {
      "cell_type": "code",
      "source": [
        "#/////////////////Compra con descuento si supera un monto////////////////\n",
        "#valor_bruto=float(input('Ingrese el #valor bruto de la compra '))\n",
        "#if (valor_bruto>150000):\n",
        "#  valor_con_dcto=(valor_bruto-#(valor_bruto*0.25))\n",
        "#  print(f'Total a pagar con descuento #de 25% es {valor_con_dcto}')\n",
        "#else:\n",
        "#  print(f'Total a pagar {valor_bruto}')\n"
      ],
      "metadata": {
        "id": "F4FcE_Uv_Y-G"
      },
      "execution_count": null,
      "outputs": []
    }
  ]
}
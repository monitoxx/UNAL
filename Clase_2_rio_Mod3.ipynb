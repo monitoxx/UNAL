{
  "nbformat": 4,
  "nbformat_minor": 0,
  "metadata": {
    "colab": {
      "provenance": [],
      "authorship_tag": "ABX9TyNIm60xWA8MwD39cf5ITF5b",
      "include_colab_link": true
    },
    "kernelspec": {
      "name": "python3",
      "display_name": "Python 3"
    },
    "language_info": {
      "name": "python"
    }
  },
  "cells": [
    {
      "cell_type": "markdown",
      "metadata": {
        "id": "view-in-github",
        "colab_type": "text"
      },
      "source": [
        "<a href=\"https://colab.research.google.com/github/monitoxx/UNAL/blob/main/Clase_2_rio_Mod3.ipynb\" target=\"_parent\"><img src=\"https://colab.research.google.com/assets/colab-badge.svg\" alt=\"Open In Colab\"/></a>"
      ]
    },
    {
      "cell_type": "code",
      "execution_count": null,
      "metadata": {
        "colab": {
          "base_uri": "https://localhost:8080/"
        },
        "id": "zR2L5X1YIKAy",
        "outputId": "0a3a18cd-b8e6-45d4-8886-5de2dccdc6e3"
      },
      "outputs": [
        {
          "output_type": "stream",
          "name": "stdout",
          "text": [
            "INGRESE EL AÑO ACTUAL 2023\n",
            "INGRESE UN AÑO CUALQUIERA 1927\n",
            "Han pasado 96 años\n"
          ]
        }
      ],
      "source": [
        "año_actual=int(input('INGRESE EL AÑO ACTUAL '))\n",
        "año_x=int(input('INGRESE UN AÑO CUALQUIERA '))\n",
        "faltan=abs(año_actual-año_x)\n",
        "if (faltan>año_actual):\n",
        "  print(f'Faltan {faltan} años')\n",
        "elif (faltan<año_actual):\n",
        "  print(f'Han pasado {faltan} años')\n",
        "else:\n",
        "  print('SON EL MISMO AÑO')\n"
      ]
    },
    {
      "cell_type": "code",
      "source": [
        "\n",
        "#///////////////////////////////////////////////////////////////////////\n",
        "edad=int(input('Ingrese edad del otro hijo '))\n",
        "if (edad<16):\n",
        "  print(f'Es el quinto hijo!')\n",
        "elif (edad<22):\n",
        "  print(f'Es el cuarto hijo!')\n",
        "elif (edad<26):\n",
        "  print(f'Es el tercer hijo!')\n",
        "elif (edad<30):\n",
        "  print(f'Es el segundo hijo!')\n",
        "else:\n",
        "  print(f'Es el primer hijo!')\n"
      ],
      "metadata": {
        "colab": {
          "base_uri": "https://localhost:8080/"
        },
        "id": "izbQjXGUIghe",
        "outputId": "71879e66-b134-4636-ab45-580296c0c883"
      },
      "execution_count": null,
      "outputs": [
        {
          "output_type": "stream",
          "name": "stdout",
          "text": [
            "Ingrese edad del otro hijo 10\n",
            "Es el quinto hijo!\n"
          ]
        }
      ]
    },
    {
      "cell_type": "code",
      "source": [
        "\n",
        "#////////////////////////////////////////////////////////////////////////////\n",
        "boton1=int(input('Interruptor 1. Si està cerrado ingrese 1, sino ingrese 0 '))\n",
        "boton2=int(input('Interruptor 2. Si està cerrado ingrese 1, sino ingrese 0 '))\n",
        "boton3=int(input('Interruptor 3. Si està cerrado ingrese 1, sino ingrese 0 '))\n",
        "if (boton1==1 and boton2==1):\n",
        "  print('El quipo funciona')\n",
        "elif (boton1==1 and boton3==1):\n",
        "  print('El quipo funciona')\n",
        "elif (boton2==1 and boton2==1):\n",
        "  print('El equipo funciona')\n",
        "else:\n",
        "  print('No funciona el equipo!')\n"
      ],
      "metadata": {
        "colab": {
          "base_uri": "https://localhost:8080/"
        },
        "id": "U1_XQPYcIoGK",
        "outputId": "fa10d540-8935-49e1-c9b2-202ccca6e0ac"
      },
      "execution_count": null,
      "outputs": [
        {
          "output_type": "stream",
          "name": "stdout",
          "text": [
            "Interruptor 1. Si està cerrado ingrese 1, sino ingrese 0 0\n",
            "Interruptor 2. Si està cerrado ingrese 1, sino ingrese 0 1\n",
            "Interruptor 3. Si està cerrado ingrese 1, sino ingrese 0 1\n",
            "El equipo funciona\n"
          ]
        }
      ]
    },
    {
      "cell_type": "code",
      "source": [
        "\n",
        "#////////////DOBLE DEL PAR O TRIPLE DEL IMPAR////////////////\n",
        "#numero=int(input())\n",
        "#if (numero%2==0):\n",
        "#  print(numero*2)\n",
        "#else:\n",
        "#  print(numero*3)\n",
        "\n",
        "#//////////////////////////////////////////////////////////////////\n",
        "#edad=int(input())\n",
        "#if (edad<18):\n",
        "#  print(f'Tienes {edad} lo siento pero no puedes hacer lo que #quieras')\n",
        "#else:\n",
        "#  print(f'Tienes {edad} sigues sin poder hacer lo que quieras pero ademas tienes obligaciones')\n"
      ],
      "metadata": {
        "id": "Osk34q9NIuPC"
      },
      "execution_count": null,
      "outputs": []
    },
    {
      "cell_type": "code",
      "source": [
        "\n",
        "#////////////////Numeros prohibidos////////////////////////\n",
        "calle=int(input())\n",
        "casa=int(input())\n",
        "if (calle%23==0) or (calle%13==0):\n",
        "  print(f'La direccion calle {calle} # {casa} esta prohibida')\n",
        "elif (casa%23==0) or (casa%13==0):\n",
        "  print(f'La direccion calle {calle} # {casa} esta prohibida')\n",
        "else:\n",
        "  print(f'La direccion calle {calle} # {casa} no esta prohibida')\n"
      ],
      "metadata": {
        "colab": {
          "base_uri": "https://localhost:8080/"
        },
        "id": "4ae_5eSMI1pn",
        "outputId": "d12c3d63-4078-4330-f13f-9103f3d4cb21"
      },
      "execution_count": null,
      "outputs": [
        {
          "output_type": "stream",
          "name": "stdout",
          "text": [
            "39\n",
            "4\n",
            "La direccion calle 39 # 4 esta prohibida\n"
          ]
        }
      ]
    },
    {
      "cell_type": "code",
      "source": [
        "\n",
        "#/////////////////////Sumando y quizá restando////////////////////\n",
        "'''numero=float(input())\n",
        "sumando=numero+5\n",
        "if numero>10:\n",
        "  restando=numero-8\n",
        "  print(f'{sumando}\\n{restando}')\n",
        "else:\n",
        "  print(sumando)'''\n",
        "\n",
        "#////////////////////////Quedate con el cambio/////////////////////\n",
        "total_compra=int(input())\n",
        "efectivo=int(input())\n",
        "vuelto=efectivo-total_compra\n",
        "if (vuelto%4==0):\n",
        "  print(vuelto)\n",
        "elif (vuelto%10==0 or vuelto%15==0):\n",
        "  print(f'{vuelto}\\ny te lo puedes quedar')"
      ],
      "metadata": {
        "colab": {
          "base_uri": "https://localhost:8080/"
        },
        "id": "WBQOBThzJDs6",
        "outputId": "9c98ddba-97f7-4185-a74d-aa8d703a87d5"
      },
      "execution_count": null,
      "outputs": [
        {
          "output_type": "stream",
          "name": "stdout",
          "text": [
            "20930\n",
            "30000\n",
            "9070\n",
            "y te lo puedes quedar\n"
          ]
        }
      ]
    },
    {
      "cell_type": "code",
      "source": [
        "#//////////////Ganancia, perdida o desperdicio de dinero///////////\n",
        "c=float(input())\n",
        "k=float(input())\n",
        "obtenido=int(k-c)\n",
        "porcentaje=((k-c)/c)*100\n",
        "if obtenido<0:\n",
        "  print(f'Hubo una perdida de $ #{abs(obtenido)} correspondiente #al {abs(porcentaje)} % del #capital invertido')\n",
        "elif obtenido>0:\n",
        "  print(f'Hubo una ganancia de $ #{obtenido} correspondiente al #{porcentaje} % del capital #invertido')\n",
        "else:\n",
        "  print('No hubo ni ganancia ni perdida, la inversion fue un desperdicio de tiempo, pero al menos no de dinero')"
      ],
      "metadata": {
        "colab": {
          "base_uri": "https://localhost:8080/"
        },
        "id": "pYpLaF2PS3Gp",
        "outputId": "329a9ac4-3f75-4c60-8d6d-70dc53394173"
      },
      "execution_count": 1,
      "outputs": [
        {
          "output_type": "stream",
          "name": "stdout",
          "text": [
            "500000\n",
            "13000000\n",
            "Hubo una ganancia de $ #12500000 correspondiente al #2500.0 % del capital #invertido\n"
          ]
        }
      ]
    },
    {
      "cell_type": "code",
      "source": [
        "#//////////////Obsesión con el numero 3////////////////////////\n",
        "#numero=int(input())\n",
        "#if numero==3:\n",
        "#  print(f'El numero 3 es el #mejor')\n",
        "#elif numero%3==0:\n",
        "#  print(f'El numero {numero} es #multiplo de 3. Y el numero 3 es #el mejor')\n",
        "#elif (numero-1)%3==0:\n",
        "#  print(f'El numero {numero} no #es multiplo de 3, pero si le #restas 1 el resultado si lo es. #Y el numero 3 es el mejor')\n",
        "#else:\n",
        "#  print(f'El numero {numero} no es multiplo de 3, pero si le sumas 1 el resultado si lo es. Y el numero 3 es el mejor')\n",
        "\n",
        "#/////////////////MADE IN THE USA//////////////////////////\n",
        "porcentaje=float(input())\n",
        "if porcentaje>=90:\n",
        "  print(f'El porcentaje {porcentaje} corresponde a la calificacion A')\n",
        "elif porcentaje>=80:\n",
        "  print(f'El porcentaje {porcentaje} corresponde a la calificacion B')\n",
        "elif porcentaje>=70:\n",
        "  print(f'El porcentaje {porcentaje} corresponde a la calificacion C')\n",
        "elif porcentaje>=60:\n",
        "  print(f'El porcentaje {porcentaje} corresponde a la calificacion D')\n",
        "elif porcentaje>=40:\n",
        "  print(f'El porcentaje {porcentaje} corresponde a la calificacion E')\n",
        "else:\n",
        "  print(f'El porcentaje {porcentaje} corresponde a la calificacion F')"
      ],
      "metadata": {
        "colab": {
          "base_uri": "https://localhost:8080/"
        },
        "id": "-3rpBVV-ThSk",
        "outputId": "6ebd47a5-d1cf-490f-d288-a33fd8a09bee"
      },
      "execution_count": 2,
      "outputs": [
        {
          "output_type": "stream",
          "name": "stdout",
          "text": [
            "75.67\n",
            "El porcentaje 75.67 corresponde a la calificacion C\n"
          ]
        }
      ]
    }
  ]
}
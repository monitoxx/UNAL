{
  "nbformat": 4,
  "nbformat_minor": 0,
  "metadata": {
    "colab": {
      "provenance": [],
      "authorship_tag": "ABX9TyNKB698tOA67r6RjHqdT8b4",
      "include_colab_link": true
    },
    "kernelspec": {
      "name": "python3",
      "display_name": "Python 3"
    },
    "language_info": {
      "name": "python"
    }
  },
  "cells": [
    {
      "cell_type": "markdown",
      "metadata": {
        "id": "view-in-github",
        "colab_type": "text"
      },
      "source": [
        "<a href=\"https://colab.research.google.com/github/monitoxx/UNAL/blob/main/Clase_1_rio_Mod2.ipynb\" target=\"_parent\"><img src=\"https://colab.research.google.com/assets/colab-badge.svg\" alt=\"Open In Colab\"/></a>"
      ]
    },
    {
      "cell_type": "code",
      "execution_count": 1,
      "metadata": {
        "colab": {
          "base_uri": "https://localhost:8080/"
        },
        "id": "MuE8Huoq_vNZ",
        "outputId": "541d3ef0-7c23-44a2-acbb-ef3709e3c798"
      },
      "outputs": [
        {
          "output_type": "stream",
          "name": "stdout",
          "text": [
            "2\n",
            "3.2\n",
            "1\n",
            "5\n",
            "35.212\n"
          ]
        }
      ],
      "source": [
        "#variable= float(input('Ingrese el numero en pulgadas: #'))\n",
        "#c= 2.45*variable\n",
        "#print(f\"El valor en centimetros es: {c}\")\n",
        "# Ò tambien print(\"El valor en centimetros es:\", c)\n",
        "\n",
        "#peso= float(input('Ingrese su peso: '))\n",
        "#altura=float(input('Ingrese su estatura: '))\n",
        "#imc= peso/altura**2\n",
        "#print(f'Su ìndice de masa corporal es {imc}')\n",
        "\n",
        "#nombre=str(input())\n",
        "#print(f'Hola {nombre}, ya has hecho tus primeros programas')\n",
        "\n",
        "#print('Hola', end='++')\n",
        "#print('como')\n",
        "\n",
        "#///////////////////////Volumen del tanque//////////////////////////////////////\n",
        "#from math import pi\n",
        "#r=float(input())\n",
        "#h=float(input())\n",
        "#v=float(input())\n",
        "#m=float(input())\n",
        "#volumeni=pi*(r**2)*h\n",
        "#volument=volumeni-(v*m)\n",
        "#if (volument<0):\n",
        "#  print(int(abs(round(volument, -2))))\n",
        "#else: print(round(volument, 3))\n",
        "\n",
        "#///////////////////Area terreno rectangular con cateto e hipotenusa///////////\n",
        "#from math import sqrt\n",
        "#x=float(input())\n",
        "#y=float(input())\n",
        "#z=sqrt(y**2-x**2)\n",
        "#area=round(z*x, 2)\n",
        "#print(f'El area total es de {area} metros cuadrados')\n",
        "\n",
        "#DIOS SOY UN DIOS\n",
        "\n",
        "#////////////////////////Convertidor segundos//////////////////////////////\n",
        "#segundos=int(input())\n",
        "#horas=segundos/3600\n",
        "#punto_horas=horas-(int(horas))\n",
        "#hora=int(horas)\n",
        "#minutos=punto_horas*60\n",
        "#punto_minutos=minutos-(int(minutos))\n",
        "#minuto=int(minutos)\n",
        "#segundos=punto_minutos*60\n",
        "#punto_segundos=segundos-(int(segundos))\n",
        "#segundo=round(segundos)\n",
        "#print(hora, minuto, segundo, sep=':')\n",
        "\n",
        "from math import pi\n",
        "r=float(input())\n",
        "h=float(input())\n",
        "v=float(input())\n",
        "m=float(input())\n",
        "volumeni=pi*(r**2)*h\n",
        "volument=volumeni-(v*m)\n",
        "if (volument<0):\n",
        "  volument=0\n",
        "print(round(volument,3))"
      ]
    }
  ]
}